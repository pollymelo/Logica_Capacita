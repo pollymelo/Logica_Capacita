{
  "nbformat": 4,
  "nbformat_minor": 0,
  "metadata": {
    "colab": {
      "provenance": [],
      "authorship_tag": "ABX9TyM+1SK899eaVlPcbFHQevQx",
      "include_colab_link": true
    },
    "kernelspec": {
      "name": "python3",
      "display_name": "Python 3"
    },
    "language_info": {
      "name": "python"
    }
  },
  "cells": [
    {
      "cell_type": "markdown",
      "metadata": {
        "id": "view-in-github",
        "colab_type": "text"
      },
      "source": [
        "<a href=\"https://colab.research.google.com/github/pollymelo/Logica_Capacita/blob/main/Oficina6.ipynb\" target=\"_parent\"><img src=\"https://colab.research.google.com/assets/colab-badge.svg\" alt=\"Open In Colab\"/></a>"
      ]
    },
    {
      "cell_type": "markdown",
      "source": [
        "Escreva um código usando enumerate para exibir os índices e valores da lista [\"maçã\", \"banana\", \"uva\"]."
      ],
      "metadata": {
        "id": "OlhE5_pPNYNI"
      }
    },
    {
      "cell_type": "code",
      "source": [
        "lista = [\"maçã\", \"banana\", \"uva\"]\n",
        "\n",
        "for indice, lista in enumerate(lista):\n",
        "  print(f\"Índice {indice} e valor {lista}\")"
      ],
      "metadata": {
        "colab": {
          "base_uri": "https://localhost:8080/"
        },
        "id": "JLlgLRxBNZkN",
        "outputId": "d7e1cc53-c7be-4b83-b0c0-7f6539f9f4dd"
      },
      "execution_count": null,
      "outputs": [
        {
          "output_type": "stream",
          "name": "stdout",
          "text": [
            "Índice 0 e valor maçã\n",
            "Índice 1 e valor banana\n",
            "Índice 2 e valor uva\n"
          ]
        }
      ]
    },
    {
      "cell_type": "markdown",
      "source": [
        "Crie uma lista com os números pares de 1 a 10 usando List Comprehension."
      ],
      "metadata": {
        "id": "qRYJZ0KTNaKL"
      }
    },
    {
      "cell_type": "code",
      "source": [
        "pares = [numero for numero in range (1,11) if numero % 2 == 0]\n",
        "print(pares)"
      ],
      "metadata": {
        "colab": {
          "base_uri": "https://localhost:8080/"
        },
        "id": "wj4r2M0rNckJ",
        "outputId": "543a6b04-40d5-48fc-b555-cda31a72ab58"
      },
      "execution_count": null,
      "outputs": [
        {
          "output_type": "stream",
          "name": "stdout",
          "text": [
            "[2, 4, 6, 8, 10]\n"
          ]
        }
      ]
    },
    {
      "cell_type": "markdown",
      "source": [
        "Escreva um programa que use map para multiplicar cada elemento da lista [1, 2, 3, 4] por 3."
      ],
      "metadata": {
        "id": "Ut-eV0nvNdGB"
      }
    },
    {
      "cell_type": "code",
      "source": [
        "multiplica = [1, 2, 3, 4]\n",
        "resultado = list(map(lambda x: x * 3, multiplica))\n",
        "print(resultado)"
      ],
      "metadata": {
        "colab": {
          "base_uri": "https://localhost:8080/"
        },
        "id": "TAT6Hlj4Ne9M",
        "outputId": "a472beac-bccb-487a-b35a-9a6bd7c7f404"
      },
      "execution_count": null,
      "outputs": [
        {
          "output_type": "stream",
          "name": "stdout",
          "text": [
            "[3, 6, 9, 12]\n"
          ]
        }
      ]
    },
    {
      "cell_type": "markdown",
      "source": [
        "Escreva um programa que use enumerate e List Comprehension para criar uma lista de tuplas com os índices e valores ao quadrado de [2, 4, 6]\n",
        "\n"
      ],
      "metadata": {
        "id": "fZzfB6H6NfPY"
      }
    },
    {
      "cell_type": "code",
      "source": [
        "numeros = [2, 4, 6]\n",
        "resultado = [(indice, valor**2) for indice, valor in enumerate(numeros)]\n",
        "print(resultado)"
      ],
      "metadata": {
        "colab": {
          "base_uri": "https://localhost:8080/"
        },
        "id": "yiaVUsuKNhkE",
        "outputId": "a7718596-dd22-45b4-9333-8a9412c074c1"
      },
      "execution_count": null,
      "outputs": [
        {
          "output_type": "stream",
          "name": "stdout",
          "text": [
            "[(0, 4), (1, 16), (2, 36)]\n"
          ]
        }
      ]
    }
  ]
}