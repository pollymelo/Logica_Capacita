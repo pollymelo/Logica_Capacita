{
  "nbformat": 4,
  "nbformat_minor": 0,
  "metadata": {
    "colab": {
      "provenance": [],
      "authorship_tag": "ABX9TyPYMJudlDtdsmlfLO8UdeNl",
      "include_colab_link": true
    },
    "kernelspec": {
      "name": "python3",
      "display_name": "Python 3"
    },
    "language_info": {
      "name": "python"
    }
  },
  "cells": [
    {
      "cell_type": "markdown",
      "metadata": {
        "id": "view-in-github",
        "colab_type": "text"
      },
      "source": [
        "<a href=\"https://colab.research.google.com/github/pollymelo/Logica_Capacita/blob/main/figuras_geometricas.ipynb\" target=\"_parent\"><img src=\"https://colab.research.google.com/assets/colab-badge.svg\" alt=\"Open In Colab\"/></a>"
      ]
    },
    {
      "cell_type": "markdown",
      "source": [
        "Pense em um código em Python com duas funções. Uma função para calcular a área de um quadrado e outra função para calcular a área de um retângulo."
      ],
      "metadata": {
        "id": "uK-8j7PAJ628"
      }
    },
    {
      "cell_type": "code",
      "source": [
        "def area_quadrado(lado):\n",
        "  if lado < 0:\n",
        "    print(\"O lado não pode ser negativo\")\n",
        "  return lado * lado\n",
        "\n",
        "def area_retangulo(base, altura):\n",
        "  if base < 0 & altura < 0:\n",
        "    print(\"A base e a altura não podem ser negativoas\")\n",
        "  return base * altura\n",
        "\n",
        "lado = 5\n",
        "quadrado = area_quadrado(lado)\n",
        "print(f\"A area do quadrado é {quadrado}\")\n",
        "\n",
        "base = 4\n",
        "altura = 7\n",
        "retangulo = area_retangulo(base, altura)\n",
        "print(f\"A área do retângulo é {retangulo}\")"
      ],
      "metadata": {
        "colab": {
          "base_uri": "https://localhost:8080/"
        },
        "id": "tJu82eYZJ7sA",
        "outputId": "434c6f8b-6f94-45e8-e216-8234c59410c6"
      },
      "execution_count": null,
      "outputs": [
        {
          "output_type": "stream",
          "name": "stdout",
          "text": [
            "A area do quadrado é 25\n",
            "A área do retângulo é 28\n"
          ]
        }
      ]
    }
  ]
}