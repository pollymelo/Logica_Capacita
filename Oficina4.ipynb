{
  "nbformat": 4,
  "nbformat_minor": 0,
  "metadata": {
    "colab": {
      "provenance": [],
      "authorship_tag": "ABX9TyPylOHBUjW6TvwhZ8p71+Q8",
      "include_colab_link": true
    },
    "kernelspec": {
      "name": "python3",
      "display_name": "Python 3"
    },
    "language_info": {
      "name": "python"
    }
  },
  "cells": [
    {
      "cell_type": "markdown",
      "metadata": {
        "id": "view-in-github",
        "colab_type": "text"
      },
      "source": [
        "<a href=\"https://colab.research.google.com/github/pollymelo/Logica_Capacita/blob/main/Oficina4.ipynb\" target=\"_parent\"><img src=\"https://colab.research.google.com/assets/colab-badge.svg\" alt=\"Open In Colab\"/></a>"
      ]
    },
    {
      "cell_type": "markdown",
      "source": [
        "Crie um programa que use um laço for para imprimir os números de 1 a 5 no console."
      ],
      "metadata": {
        "id": "kAISFmDplS2S"
      }
    },
    {
      "cell_type": "code",
      "source": [
        "for numero in range(1,6):\n",
        "  print(numero)"
      ],
      "metadata": {
        "colab": {
          "base_uri": "https://localhost:8080/"
        },
        "id": "9WS9bBUalVZw",
        "outputId": "fd13964b-a18d-4be4-c186-81dc88c5792d"
      },
      "execution_count": null,
      "outputs": [
        {
          "output_type": "stream",
          "name": "stdout",
          "text": [
            "1\n",
            "2\n",
            "3\n",
            "4\n",
            "5\n"
          ]
        }
      ]
    },
    {
      "cell_type": "markdown",
      "source": [
        "Escreva um programa que declare uma lista com os números [10, 20, 30, 40, 50] e exiba o primeiro elemento."
      ],
      "metadata": {
        "id": "7DPWg3oBl3QA"
      }
    },
    {
      "cell_type": "code",
      "source": [
        "lista = [10, 20, 30, 40, 50]\n",
        "\n",
        "print(lista[0])"
      ],
      "metadata": {
        "colab": {
          "base_uri": "https://localhost:8080/"
        },
        "id": "xdwX2W1El6wh",
        "outputId": "b0fdf367-60b7-4d0d-ec94-464970076db2"
      },
      "execution_count": null,
      "outputs": [
        {
          "output_type": "stream",
          "name": "stdout",
          "text": [
            "10\n"
          ]
        }
      ]
    },
    {
      "cell_type": "markdown",
      "source": [
        "Faça um programa que use um laço while para somar todos os números de 1 a 10 e exiba o resultado no console."
      ],
      "metadata": {
        "id": "eSvlnafLmFNN"
      }
    },
    {
      "cell_type": "code",
      "source": [
        "soma = 0\n",
        "numero = 1\n",
        "while numero <=10:\n",
        "  soma = soma + numero\n",
        "  numero = numero + 1\n",
        "  print(\"A soma é igual a: \", soma)"
      ],
      "metadata": {
        "colab": {
          "base_uri": "https://localhost:8080/"
        },
        "id": "QxA9T54ZmHmm",
        "outputId": "e6418268-e58d-4bd3-bee0-2d99b09649b0"
      },
      "execution_count": null,
      "outputs": [
        {
          "output_type": "stream",
          "name": "stdout",
          "text": [
            "A soma é igual a:  1\n",
            "A soma é igual a:  3\n",
            "A soma é igual a:  6\n",
            "A soma é igual a:  10\n",
            "A soma é igual a:  15\n",
            "A soma é igual a:  21\n",
            "A soma é igual a:  28\n",
            "A soma é igual a:  36\n",
            "A soma é igual a:  45\n",
            "A soma é igual a:  55\n"
          ]
        }
      ]
    },
    {
      "cell_type": "markdown",
      "source": [
        "Crie um programa que declare um dicionário com as seguintes chaves e valores: {\"nome\": \"Ana\", \"idade\": 25, \"cidade\": \"Fortaleza\"} e exiba o valor associado à chave \"idade\""
      ],
      "metadata": {
        "id": "_iNWFc-pnSpH"
      }
    },
    {
      "cell_type": "code",
      "source": [
        "dicionario = {\"nome\": \"Ana\", \"idade\": 25, \"cidade\": \"Fortaleza\"}\n",
        "print(dicionario[\"idade\"])"
      ],
      "metadata": {
        "colab": {
          "base_uri": "https://localhost:8080/"
        },
        "id": "UdAKCosVnWCm",
        "outputId": "3a07d725-fd6c-4485-bab3-1e7a15587901"
      },
      "execution_count": null,
      "outputs": [
        {
          "output_type": "stream",
          "name": "stdout",
          "text": [
            "25\n"
          ]
        }
      ]
    },
    {
      "cell_type": "markdown",
      "source": [
        "Escreva um programa que inverta uma string utilizando um laço for. Por exemplo, para a string \"Python\", o resultado deve ser \"nohtyP\"."
      ],
      "metadata": {
        "id": "Ip2HiS20nrh8"
      }
    },
    {
      "cell_type": "code",
      "source": [
        "python = \"Python\"\n",
        "python_invertido = \"\"\n",
        "\n",
        "for caractere in python:\n",
        "  python_invertido = caractere + python_invertido\n",
        "\n",
        "print(f\"A string invertida é: {python_invertido}\")"
      ],
      "metadata": {
        "colab": {
          "base_uri": "https://localhost:8080/"
        },
        "id": "maLwF23lnt4Z",
        "outputId": "fa3728bd-021d-40c6-a124-f87b4eedb581"
      },
      "execution_count": null,
      "outputs": [
        {
          "output_type": "stream",
          "name": "stdout",
          "text": [
            "A string invertida é: nohtyP\n"
          ]
        }
      ]
    },
    {
      "cell_type": "markdown",
      "source": [
        "Escreva um programa que calcule a frequência de cada caractere em uma string. Por exemplo, na string \"banana\", o programa deve exibir: {'b': 1, 'a': 3, 'n': 2}"
      ],
      "metadata": {
        "id": "V_J6CAl2oOIy"
      }
    },
    {
      "cell_type": "code",
      "source": [
        "palavra = \"banana\"\n",
        "frequencia = {}\n",
        "\n",
        "for caractere in palavra:\n",
        "  if caractere in frequencia:\n",
        "    frequencia[caractere] =+ 1\n",
        "\n",
        "  else:\n",
        "    frequencia[caractere] = 1\n",
        "\n",
        "print(frequencia)"
      ],
      "metadata": {
        "colab": {
          "base_uri": "https://localhost:8080/"
        },
        "id": "hV00le4YoQEi",
        "outputId": "867209ae-c2b0-429c-83fb-44d18893659d"
      },
      "execution_count": null,
      "outputs": [
        {
          "output_type": "stream",
          "name": "stdout",
          "text": [
            "{'b': 1, 'a': 1, 'n': 1}\n"
          ]
        }
      ]
    },
    {
      "cell_type": "code",
      "source": [
        "x = 30\n",
        "y = 4\n",
        "\n",
        "divisao = x/y\n",
        "\n",
        "print(%xy)"
      ],
      "metadata": {
        "colab": {
          "base_uri": "https://localhost:8080/",
          "height": 106
        },
        "id": "OgRAstvI3Mhu",
        "outputId": "dde87829-92f1-4fe5-8371-4a470ee9f4cd"
      },
      "execution_count": null,
      "outputs": [
        {
          "output_type": "error",
          "ename": "SyntaxError",
          "evalue": "invalid decimal literal (<ipython-input-1-248fc3fd1871>, line 6)",
          "traceback": [
            "\u001b[0;36m  File \u001b[0;32m\"<ipython-input-1-248fc3fd1871>\"\u001b[0;36m, line \u001b[0;32m6\u001b[0m\n\u001b[0;31m    print(%.2f divisao)\u001b[0m\n\u001b[0m            ^\u001b[0m\n\u001b[0;31mSyntaxError\u001b[0m\u001b[0;31m:\u001b[0m invalid decimal literal\n"
          ]
        }
      ]
    }
  ]
}