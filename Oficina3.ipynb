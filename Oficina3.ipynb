{
  "nbformat": 4,
  "nbformat_minor": 0,
  "metadata": {
    "colab": {
      "provenance": [],
      "authorship_tag": "ABX9TyPWuk+L4XwD6ymROrhF6evL",
      "include_colab_link": true
    },
    "kernelspec": {
      "name": "python3",
      "display_name": "Python 3"
    },
    "language_info": {
      "name": "python"
    }
  },
  "cells": [
    {
      "cell_type": "markdown",
      "metadata": {
        "id": "view-in-github",
        "colab_type": "text"
      },
      "source": [
        "<a href=\"https://colab.research.google.com/github/pollymelo/Logica_Capacita/blob/main/Oficina3.ipynb\" target=\"_parent\"><img src=\"https://colab.research.google.com/assets/colab-badge.svg\" alt=\"Open In Colab\"/></a>"
      ]
    },
    {
      "cell_type": "markdown",
      "source": [
        "Crie um programa que verifique se o número 15 é maior que 10 e exiba \"Sim\" ou \"Não\" no console."
      ],
      "metadata": {
        "id": "vc74FHCsMxdj"
      }
    },
    {
      "cell_type": "code",
      "source": [
        "x = 15\n",
        "y = 10\n",
        "\n",
        "if x > y:\n",
        "  print(\"Sim\")\n",
        "else:\n",
        "  print(\"Não\")"
      ],
      "metadata": {
        "colab": {
          "base_uri": "https://localhost:8080/"
        },
        "id": "boeDtWlDMyQh",
        "outputId": "ffd7c37e-6a94-42e8-bfa3-b661101e3344"
      },
      "execution_count": null,
      "outputs": [
        {
          "output_type": "stream",
          "name": "stdout",
          "text": [
            "Sim\n"
          ]
        }
      ]
    },
    {
      "cell_type": "markdown",
      "source": [
        "Escreva um programa que use o operador ** para calcular 2³ e exiba o resultado."
      ],
      "metadata": {
        "id": "o89OC-SsNDG5"
      }
    },
    {
      "cell_type": "code",
      "source": [
        "x = 2\n",
        "calcule = 2*2*2\n",
        "print(calcule)"
      ],
      "metadata": {
        "colab": {
          "base_uri": "https://localhost:8080/"
        },
        "id": "XuHlF32_NH4T",
        "outputId": "f1b8bf88-d582-44dd-b59d-6184c24469dd"
      },
      "execution_count": null,
      "outputs": [
        {
          "output_type": "stream",
          "name": "stdout",
          "text": [
            "8\n"
          ]
        }
      ]
    },
    {
      "cell_type": "markdown",
      "source": [
        "Crie um programa que use o operador * para repetir a string \"Oi!\" cinco vezes."
      ],
      "metadata": {
        "id": "-DfEclVaNgbr"
      }
    },
    {
      "cell_type": "code",
      "source": [
        "str = \"Oi\"\n",
        "print(str*5)"
      ],
      "metadata": {
        "colab": {
          "base_uri": "https://localhost:8080/"
        },
        "id": "dgGLOmjUNlJU",
        "outputId": "39a60bd9-3b05-4952-8871-37958557eae2"
      },
      "execution_count": null,
      "outputs": [
        {
          "output_type": "stream",
          "name": "stdout",
          "text": [
            "OiOiOiOiOi\n"
          ]
        }
      ]
    },
    {
      "cell_type": "markdown",
      "source": [
        "Escreva um programa que calcule a média de três números inteiros 10, 20 e 30, e exiba no console se a média é maior, menor ou igual a 20."
      ],
      "metadata": {
        "id": "1O_5vMr5N1Q7"
      }
    },
    {
      "cell_type": "code",
      "source": [
        "x = 10\n",
        "y = 20\n",
        "z = 30\n",
        "\n",
        "if (x+y+z)/3 > 20:\n",
        "  print(\"Maior que 20\")\n",
        "elif (x+y+z)/3 < 20:\n",
        "  print(\"Menor que 20\")\n",
        "else:\n",
        "  print(\"Igual a 20\")"
      ],
      "metadata": {
        "colab": {
          "base_uri": "https://localhost:8080/"
        },
        "id": "WWzQQi6uN8st",
        "outputId": "466aec3e-1655-48a8-910c-806d9f60d286"
      },
      "execution_count": null,
      "outputs": [
        {
          "output_type": "stream",
          "name": "stdout",
          "text": [
            "Igual a 20\n"
          ]
        }
      ]
    },
    {
      "cell_type": "markdown",
      "source": [
        "Crie um programa que determine se o número 45 é divisível por 3 e por 5 simultaneamente. O programa deve exibir \"Divisível por 3 e 5\" ou \"Não é divisível ."
      ],
      "metadata": {
        "id": "lGIL3EGyOgVN"
      }
    },
    {
      "cell_type": "code",
      "source": [
        "x = 45\n",
        "\n",
        "if (x % 3 == 0) and (x % 5 == 0):\n",
        "  print(\"45 é divisível por 3 e 5\")\n",
        "else:\n",
        "  print(\"45 não é divisível por 3 e 5\")"
      ],
      "metadata": {
        "colab": {
          "base_uri": "https://localhost:8080/"
        },
        "id": "xQHYb_U1Og3p",
        "outputId": "43651d29-acde-4a15-c9fb-074e89e1b13f"
      },
      "execution_count": null,
      "outputs": [
        {
          "output_type": "stream",
          "name": "stdout",
          "text": [
            "45 é divisível por 3 e 5\n"
          ]
        }
      ]
    }
  ]
}